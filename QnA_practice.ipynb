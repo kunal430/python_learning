{
  "nbformat": 4,
  "nbformat_minor": 0,
  "metadata": {
    "colab": {
      "provenance": [],
      "authorship_tag": "ABX9TyPE2mDIUHbWv18PCLBiNFD6"
    },
    "kernelspec": {
      "name": "python3",
      "display_name": "Python 3"
    },
    "language_info": {
      "name": "python"
    }
  },
  "cells": [
    {
      "cell_type": "code",
      "execution_count": null,
      "metadata": {
        "id": "2BqOLOJ61rmi"
      },
      "outputs": [],
      "source": [
        "import numpy as np"
      ]
    },
    {
      "cell_type": "code",
      "source": [
        "#Write a NumPy function that takes a 1D NumPy array of integers as input and returns the sum of all the even numbers in the array.\n",
        "\n",
        "def sum_of_even_num(arr):\n",
        "\n",
        "\n",
        "    even_num=arr[arr1 %2 == 0]\n",
        "    return np.sum(even_num)\n",
        "\n",
        "\n",
        "arr1 =np.array([1,2,3,4,5,6])\n",
        "converted_num=sum_of_even_num(arr1)\n",
        "print(arr1)\n",
        "print(converted_num)"
      ],
      "metadata": {
        "colab": {
          "base_uri": "https://localhost:8080/"
        },
        "id": "6Gebff-I20rB",
        "outputId": "12f1e91b-6ac2-4385-bee6-d024b5962050"
      },
      "execution_count": null,
      "outputs": [
        {
          "output_type": "stream",
          "name": "stdout",
          "text": [
            "[1 2 3 4 5 6]\n",
            "12\n"
          ]
        }
      ]
    },
    {
      "cell_type": "code",
      "source": [
        "#Write a NumPy function that takes two 1D NumPy arrays of the same length as input and returns a new array containing the element-wise product of the two input arrays.\n",
        "def product(arr2 , arr3):\n",
        "  return arr2 * arr3\n",
        "\n",
        "\n",
        "arr2=np.array([1,2,3])\n",
        "arr3=np.array([4,5,6])\n",
        "product_of_array=product(arr2 ,arr3)\n",
        "print(arr2)\n",
        "print(arr3)\n",
        "print(product_of_array)"
      ],
      "metadata": {
        "colab": {
          "base_uri": "https://localhost:8080/"
        },
        "id": "WihwTudt61cR",
        "outputId": "c4601266-ee26-45ff-d312-e080c258dca2"
      },
      "execution_count": 5,
      "outputs": [
        {
          "output_type": "stream",
          "name": "stdout",
          "text": [
            "[1 2 3]\n",
            "[4 5 6]\n",
            "[ 4 10 18]\n"
          ]
        }
      ]
    },
    {
      "cell_type": "code",
      "source": [
        "#Problem : Find the Maximum Value and Its Index\n",
        "#Write a NumPy function that takes a 1D NumPy array as input and returns a tuple containing the maximum value in the array and its index.\n",
        "def"
      ],
      "metadata": {
        "id": "wR0f-90E61ej"
      },
      "execution_count": null,
      "outputs": []
    },
    {
      "cell_type": "code",
      "source": [],
      "metadata": {
        "id": "vr2a1Xl0n3jZ"
      },
      "execution_count": null,
      "outputs": []
    },
    {
      "cell_type": "code",
      "source": [],
      "metadata": {
        "id": "QMsp6zh4n3my"
      },
      "execution_count": null,
      "outputs": []
    }
  ]
}