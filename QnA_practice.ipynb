{
  "nbformat": 4,
  "nbformat_minor": 0,
  "metadata": {
    "colab": {
      "provenance": [],
      "authorship_tag": "ABX9TyNuhY/MQFLXPgzBL1jpt6a7"
    },
    "kernelspec": {
      "name": "python3",
      "display_name": "Python 3"
    },
    "language_info": {
      "name": "python"
    }
  },
  "cells": [
    {
      "cell_type": "code",
      "execution_count": null,
      "metadata": {
        "id": "2BqOLOJ61rmi"
      },
      "outputs": [],
      "source": [
        "import numpy as np"
      ]
    },
    {
      "cell_type": "code",
      "source": [
        "#Write a NumPy function that takes a 1D NumPy array of integers as input and returns the sum of all the even numbers in the array.\n",
        "\n",
        "def sum_of_even_num(arr):\n",
        "\n",
        "\n",
        "    even_num=arr[arr1 %2 == 0]\n",
        "    return np.sum(even_num)\n",
        "\n",
        "\n",
        "arr1 =np.array([1,2,3,4,5,6])\n",
        "converted_num=sum_of_even_num(arr1)\n",
        "print(arr1)\n",
        "print(converted_num)"
      ],
      "metadata": {
        "colab": {
          "base_uri": "https://localhost:8080/"
        },
        "id": "6Gebff-I20rB",
        "outputId": "12f1e91b-6ac2-4385-bee6-d024b5962050"
      },
      "execution_count": null,
      "outputs": [
        {
          "output_type": "stream",
          "name": "stdout",
          "text": [
            "[1 2 3 4 5 6]\n",
            "12\n"
          ]
        }
      ]
    },
    {
      "cell_type": "code",
      "source": [
        "#Write a NumPy function that takes two 1D NumPy arrays of the same length as input and returns a new array containing the element-wise product of the two input arrays.\n",
        "def product(arr2 , arr3):\n",
        "  return arr2 * arr3\n",
        "\n",
        "\n",
        "arr2=np.array([1,2,3])\n",
        "arr3=np.array([4,5,6])\n",
        "product_of_array=product(arr2 ,arr3)\n",
        "print(arr2)\n",
        "print(arr3)\n",
        "print(product_of_array)"
      ],
      "metadata": {
        "colab": {
          "base_uri": "https://localhost:8080/"
        },
        "id": "WihwTudt61cR",
        "outputId": "c4601266-ee26-45ff-d312-e080c258dca2"
      },
      "execution_count": null,
      "outputs": [
        {
          "output_type": "stream",
          "name": "stdout",
          "text": [
            "[1 2 3]\n",
            "[4 5 6]\n",
            "[ 4 10 18]\n"
          ]
        }
      ]
    },
    {
      "cell_type": "code",
      "source": [
        "#Problem : Standardize Data (Z-score Normalization)\n",
        "#Write a NumPy function that takes a 1D NumPy array as input and returns a new array containing the standardized values (Z-scores) of the input array.\n",
        "#Standardization involves transforming the data so that it has a mean of 0 and a standard deviation of 1. The Z-score is calculated as:\n",
        "#z_score = (value - mean) / standard_deviation\n",
        "\n",
        "import numpy as np\n",
        "\n",
        "def standerdise_value(arr):\n",
        "\n",
        "  mean=np.mean(arr4)\n",
        "  standerd_deviation=np.std(arr4)\n",
        "  z_score=(arr4-mean/standerd_deviation)\n",
        "\n",
        "  return z_score\n",
        "\n",
        "\n",
        "arr4=np.array([10,20,30,40,50,60])\n",
        "standerdised_value=standerdise_value(arr4)\n",
        "print(\"input- \",arr4)\n",
        "print(\"output- \",standerdised_value)"
      ],
      "metadata": {
        "id": "vr2a1Xl0n3jZ",
        "colab": {
          "base_uri": "https://localhost:8080/"
        },
        "outputId": "3f9cd98d-4c05-4e7f-8d23-97e178097399"
      },
      "execution_count": null,
      "outputs": [
        {
          "output_type": "stream",
          "name": "stdout",
          "text": [
            "input-  [10 20 30 40 50 60]\n",
            "output-  [ 7.95060985 17.95060985 27.95060985 37.95060985 47.95060985 57.95060985]\n"
          ]
        }
      ]
    },
    {
      "cell_type": "code",
      "source": [
        "\"\"\"Problem : Filter Outliers Using the IQR Method\n",
        "Write a NumPy function that takes a 1D NumPy array as input and returns a new array with outliers removed using the Interquartile Range (IQR) method.\n",
        "Here's how the IQR method works:\n",
        "Calculate the first quartile (Q1) and the third quartile (Q3) of the data.\n",
        "Calculate the IQR: IQR = Q3 - Q1.\n",
        "Define the lower bound: lower_bound = Q1 - 1.5 * IQR.\n",
        "Define the upper bound: upper_bound = Q3 + 1.5 * IQR.\n",
        "Filter out values that are less than the lower bound or greater than the upper bound.\"\"\"\n",
        "\n",
        "def filterd_outliers_with_iqr(arr):\n",
        "\n",
        "\n",
        "  q1=np.percentile(arr,25)\n",
        "  q3=np.percentile(arr,75)\n",
        "  iqr=q3-q1\n",
        "\n",
        "  lower_bond= q1 - 1.5 * iqr\n",
        "  upper_bond= q3 + 1.5 * iqr\n",
        "  filterd_arr= arr[(arr>=lower_bond) & (arr<=upper_bond)]\n",
        "  return filterd_arr\n",
        "\n",
        "arr5=np.array([1,2,3,4,5,100])\n",
        "filterd_data=filterd_outliers_with_iqr(arr5)\n",
        "print(\"input- \",arr5)\n",
        "print(\"output-\",filterd_data)"
      ],
      "metadata": {
        "id": "QMsp6zh4n3my",
        "colab": {
          "base_uri": "https://localhost:8080/"
        },
        "outputId": "2a1fb678-802e-4a2b-cc6f-bc974a0bad1d"
      },
      "execution_count": null,
      "outputs": [
        {
          "output_type": "stream",
          "name": "stdout",
          "text": [
            "input-  [  1   2   3   4   5 100]\n",
            "output- [1 2 3 4 5]\n"
          ]
        }
      ]
    },
    {
      "cell_type": "code",
      "source": [
        "#Question : Calculate the Range of a Feature\n",
        "#Write a NumPy function that takes a 1D NumPy array (representing a feature) as input and returns the range of the feature (the difference between the maximum and minimum values).\n",
        "\n",
        "\n",
        "import numpy as np\n",
        "\n",
        "def calculate_feature(arr):\n",
        "  return np.max(arr)-np.min(arr)\n",
        "\n",
        "\n",
        "feature=np.array([1,3,5,6,8])\n",
        "feature_range=calculate_feature(feature)\n",
        "print(\"input:- \",feature)\n",
        "print(\"output:-\",feature_range)"
      ],
      "metadata": {
        "colab": {
          "base_uri": "https://localhost:8080/"
        },
        "id": "hK_QxoSZbx7C",
        "outputId": "9c288999-f74d-499b-f425-675930e4a517"
      },
      "execution_count": 2,
      "outputs": [
        {
          "output_type": "stream",
          "name": "stdout",
          "text": [
            "input:-  [1 3 5 6 8]\n",
            "output:- 7\n"
          ]
        }
      ]
    },
    {
      "cell_type": "code",
      "source": [
        "#Question : Count Unique Values\n",
        "#Write a NumPy function that takes a 1D NumPy array (representing a categorical feature) as input and returns the number of unique values in the array.\n",
        "\n",
        "def calculate_unique(arr):\n",
        "  return len(np.unique(arr))\n",
        "\n",
        "\n",
        "catagories=np.array([\"red\",\"white\",\"blue\",\"white\",\"red\"])\n",
        "unique_value=calculate_unique(catagories)\n",
        "print(\"input:- \",catagories)\n",
        "print(\"output:- \",unique_value)"
      ],
      "metadata": {
        "colab": {
          "base_uri": "https://localhost:8080/"
        },
        "id": "R2X9vAt1bx-f",
        "outputId": "9c38e151-361c-4095-c2a0-100b96ac1d2a"
      },
      "execution_count": 3,
      "outputs": [
        {
          "output_type": "stream",
          "name": "stdout",
          "text": [
            "input:-  ['red' 'white' 'blue' 'white' 'red']\n",
            "output:-  3\n"
          ]
        }
      ]
    },
    {
      "cell_type": "code",
      "source": [],
      "metadata": {
        "id": "N5pYjbRWbySP"
      },
      "execution_count": null,
      "outputs": []
    }
  ]
}