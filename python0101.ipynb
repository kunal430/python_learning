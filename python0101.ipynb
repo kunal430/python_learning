{
  "nbformat": 4,
  "nbformat_minor": 0,
  "metadata": {
    "colab": {
      "provenance": [],
      "authorship_tag": "ABX9TyNKliwYo5ch4DOJuHolsv/M"
    },
    "kernelspec": {
      "name": "python3",
      "display_name": "Python 3"
    },
    "language_info": {
      "name": "python"
    }
  },
  "cells": [
    {
      "cell_type": "code",
      "execution_count": null,
      "metadata": {
        "colab": {
          "base_uri": "https://localhost:8080/"
        },
        "id": "KkwL75R-aTqt",
        "outputId": "89ebb41e-9118-4847-a859-d3d498aa6767"
      },
      "outputs": [
        {
          "output_type": "stream",
          "name": "stdout",
          "text": [
            "give me a number2\n",
            "2 is even\n"
          ]
        }
      ],
      "source": [
        "#odd even filter\n",
        "\n",
        "try:\n",
        "  num=int(input(\"give me a number\"))\n",
        "  if num % 2 == 0:\n",
        "    print(f\"{num} is even\")\n",
        "  else:\n",
        "    print(f\"{num} is odd\")\n",
        "\n",
        "except ValueError :\n",
        "  print(\"invalid input\")"
      ]
    },
    {
      "cell_type": "code",
      "source": [
        "#calculator (sum)\n",
        "try:\n",
        "  number1=float(input(\"enter 1st number - \"))\n",
        "  number2=float(input(\"enter 2nd number - \"))\n",
        "\n",
        "  sum_result= number1 + number2\n",
        "  print(f\"sum of {number1} and {number2} is {sum_result}.\")\n",
        "\n",
        "except ValueError:\n",
        "  print(\"Invalid input\")\n",
        ""
      ],
      "metadata": {
        "colab": {
          "base_uri": "https://localhost:8080/"
        },
        "id": "lkPhF_OsO0Q0",
        "outputId": "fa9b994e-d655-4b4d-fc6a-b51a8a548c77"
      },
      "execution_count": 1,
      "outputs": [
        {
          "output_type": "stream",
          "name": "stdout",
          "text": [
            "enter 1st number - 33\n",
            "enter 2nd number - 2\n",
            "sum of 33.0 and 2.0 is 35.0.\n"
          ]
        }
      ]
    }
  ]
}