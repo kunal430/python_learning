{
  "nbformat": 4,
  "nbformat_minor": 0,
  "metadata": {
    "colab": {
      "provenance": [],
      "authorship_tag": "ABX9TyM6qy5Eyl9ksgWhWb+dbmwz"
    },
    "kernelspec": {
      "name": "python3",
      "display_name": "Python 3"
    },
    "language_info": {
      "name": "python"
    }
  },
  "cells": [
    {
      "cell_type": "code",
      "execution_count": 1,
      "metadata": {
        "colab": {
          "base_uri": "https://localhost:8080/"
        },
        "id": "KkwL75R-aTqt",
        "outputId": "89ebb41e-9118-4847-a859-d3d498aa6767"
      },
      "outputs": [
        {
          "output_type": "stream",
          "name": "stdout",
          "text": [
            "give me a number2\n",
            "2 is even\n"
          ]
        }
      ],
      "source": [
        "#odd even filter\n",
        "\n",
        "try:\n",
        "  num=int(input(\"give me a number\"))\n",
        "  if num % 2 == 0:\n",
        "    print(f\"{num} is even\")\n",
        "  else:\n",
        "    print(f\"{num} is odd\")\n",
        "\n",
        "except ValueError :\n",
        "  print(\"invalid input\")"
      ]
    }
  ]
}