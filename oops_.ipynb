{
  "nbformat": 4,
  "nbformat_minor": 0,
  "metadata": {
    "colab": {
      "provenance": [],
      "authorship_tag": "ABX9TyNWNcaXvSwF+a6228ZtN2lu"
    },
    "kernelspec": {
      "name": "python3",
      "display_name": "Python 3"
    },
    "language_info": {
      "name": "python"
    }
  },
  "cells": [
    {
      "cell_type": "code",
      "execution_count": 1,
      "metadata": {
        "id": "q84xIMgKP7ef",
        "colab": {
          "base_uri": "https://localhost:8080/"
        },
        "outputId": "aa3de6a6-4278-4ec7-8844-b65bddf1e4d3"
      },
      "outputs": [
        {
          "output_type": "stream",
          "name": "stdout",
          "text": [
            "Buddy\n",
            "Poodle\n",
            "Woof!\n",
            "This is Lucy, a Poodle.\n"
          ]
        }
      ],
      "source": [
        "class Dog:\n",
        "    def __init__(self, name, breed):\n",
        "        self.name = name\n",
        "        self.breed = breed\n",
        "\n",
        "    def bark(self):\n",
        "        print(\"Woof!\")\n",
        "\n",
        "    def describe(self):\n",
        "        print(f\"This is {self.name}, a {self.breed}.\")\n",
        "\n",
        "# Creating objects (instances) of the Dog class\n",
        "my_dog = Dog(\"Buddy\", \"Golden Retriever\")\n",
        "your_dog = Dog(\"Lucy\", \"Poodle\")\n",
        "\n",
        "# Accessing attributes\n",
        "print(my_dog.name)\n",
        "print(your_dog.breed)\n",
        "\n",
        "# Calling methods\n",
        "my_dog.bark()\n",
        "your_dog.describe()\n",
        "\n",
        ""
      ]
    }
  ]
}