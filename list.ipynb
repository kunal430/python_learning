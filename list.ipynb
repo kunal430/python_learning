{
 "cells": [
  {
   "cell_type": "markdown",
   "id": "17494aa8",
   "metadata": {},
   "source": [
    "# LIST"
   ]
  },
  {
   "cell_type": "code",
   "execution_count": 1,
   "id": "6f1511d3",
   "metadata": {},
   "outputs": [
    {
     "name": "stdout",
     "output_type": "stream",
     "text": [
      "[1, 22, 333, 'list']\n",
      "<class 'list'>\n"
     ]
    }
   ],
   "source": [
    "#properties of list\n",
    "#list is most usefull data type of python \n",
    "#list is denoted by [] square brackets \n",
    "#list is mutable means modification is possible in lists\n",
    "#list can contain any type of data execpt set\n",
    "#list is orederd means we can access the value inside the list using indexing no.\n",
    "#list can contain any no. of data\n",
    "#duplicates are allowed in list\n",
    "\n",
    "\n",
    "list=[1,22,333,\"list\"]\n",
    "print(list)\n",
    "print(type(list))"
   ]
  },
  {
   "cell_type": "code",
   "execution_count": 2,
   "id": "58aae671",
   "metadata": {},
   "outputs": [
    {
     "name": "stdout",
     "output_type": "stream",
     "text": [
      "[1, 2, 3, 4]\n"
     ]
    }
   ],
   "source": [
    "#we can add a value using append()\n",
    "list1=[1,2,3]\n",
    "list1.append(4)\n",
    "print(list1)"
   ]
  },
  {
   "cell_type": "code",
   "execution_count": 5,
   "id": "10fa0172",
   "metadata": {},
   "outputs": [
    {
     "name": "stdout",
     "output_type": "stream",
     "text": [
      "[1, 2]\n"
     ]
    }
   ],
   "source": [
    "list2=[1,2,3]\n",
    "#we can remove the value in list using pop(),by default it will remove last value in list\n",
    "list2.pop()\n",
    "print(list2)"
   ]
  },
  {
   "cell_type": "code",
   "execution_count": 9,
   "id": "286f5f07",
   "metadata": {},
   "outputs": [
    {
     "name": "stdout",
     "output_type": "stream",
     "text": [
      "[2, 3]\n"
     ]
    }
   ],
   "source": [
    "#we can remove the value in list using remove(),but we have to insert a specific value to remove inside remove() \n",
    "list3=[1,2,3]\n",
    "list3.remove(1)\n",
    "print(list3)"
   ]
  },
  {
   "cell_type": "code",
   "execution_count": 12,
   "id": "815adea3",
   "metadata": {},
   "outputs": [
    {
     "name": "stdout",
     "output_type": "stream",
     "text": [
      "[1, 'two', 3, 4]\n"
     ]
    }
   ],
   "source": [
    "#we can insert a pirticular value in list using insert() but we have to insert the indexing no. in the insert()\n",
    "list4=[1,3,4]\n",
    "list4.insert(1,\"two\")\n",
    "print(list4)"
   ]
  },
  {
   "cell_type": "code",
   "execution_count": 13,
   "id": "5d2478b8",
   "metadata": {},
   "outputs": [
    {
     "name": "stdout",
     "output_type": "stream",
     "text": [
      "[1, 'two', 'three', 4, 5]\n"
     ]
    }
   ],
   "source": [
    "#we can update the values using indexing no in lists\n",
    "list5=[1,2,3,4,5]\n",
    "list5[1:3]=[\"two\",\"three\"]\n",
    "print(list5)"
   ]
  },
  {
   "cell_type": "code",
   "execution_count": 16,
   "id": "4ff3502f",
   "metadata": {},
   "outputs": [
    {
     "name": "stdout",
     "output_type": "stream",
     "text": [
      "2\n"
     ]
    }
   ],
   "source": [
    "#we can access the values in list using insdexing no.\n",
    "list6=[1,2,3]\n",
    "print(list6[1])"
   ]
  },
  {
   "cell_type": "code",
   "execution_count": 19,
   "id": "560642ad",
   "metadata": {},
   "outputs": [
    {
     "name": "stdout",
     "output_type": "stream",
     "text": [
      "4\n"
     ]
    }
   ],
   "source": [
    "#we can access the values even in nested list using insdexing no.\n",
    "list6=[1,2,[3,4],5]\n",
    "print(list6[2][1])"
   ]
  },
  {
   "cell_type": "code",
   "execution_count": 21,
   "id": "ee555100",
   "metadata": {},
   "outputs": [
    {
     "name": "stdout",
     "output_type": "stream",
     "text": [
      "[1, 2, 3, 4]\n"
     ]
    }
   ],
   "source": [
    "#we can sort the list using sort()\n",
    "list7=[4,3,2,1]\n",
    "list7.sort()\n",
    "print(list7)"
   ]
  },
  {
   "cell_type": "code",
   "execution_count": 22,
   "id": "07a57ab6",
   "metadata": {},
   "outputs": [
    {
     "name": "stdout",
     "output_type": "stream",
     "text": [
      "[1, 2, 3, 4]\n"
     ]
    }
   ],
   "source": [
    "#we can extend the list using extend()\n",
    "list11=[1,2]\n",
    "list12=[3,4]\n",
    "list11.extend(list12)\n",
    "print(list11)"
   ]
  }
 ],
 "metadata": {
  "kernelspec": {
   "display_name": "Python 3 (ipykernel)",
   "language": "python",
   "name": "python3"
  },
  "language_info": {
   "codemirror_mode": {
    "name": "ipython",
    "version": 3
   },
   "file_extension": ".py",
   "mimetype": "text/x-python",
   "name": "python",
   "nbconvert_exporter": "python",
   "pygments_lexer": "ipython3",
   "version": "3.11.7"
  }
 },
 "nbformat": 4,
 "nbformat_minor": 5
}
