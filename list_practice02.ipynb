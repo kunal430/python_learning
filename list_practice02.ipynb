{
  "nbformat": 4,
  "nbformat_minor": 0,
  "metadata": {
    "colab": {
      "provenance": [],
      "authorship_tag": "ABX9TyMXgj4FWAaOzP9AwaLHfWzv"
    },
    "kernelspec": {
      "name": "python3",
      "display_name": "Python 3"
    },
    "language_info": {
      "name": "python"
    }
  },
  "cells": [
    {
      "cell_type": "code",
      "source": [
        "#inserting value using,insert()\n",
        "list1=['k',3,'n','a','l']\n",
        "list1.insert(1,\"u\")\n",
        "print(list1)"
      ],
      "metadata": {
        "id": "imDROQbAlABA",
        "colab": {
          "base_uri": "https://localhost:8080/"
        },
        "outputId": "3140d829-a268-4470-d129-b26c76851c81"
      },
      "execution_count": 1,
      "outputs": [
        {
          "output_type": "stream",
          "name": "stdout",
          "text": [
            "['k', 'u', 3, 'n', 'a', 'l']\n"
          ]
        }
      ]
    },
    {
      "cell_type": "code",
      "source": [
        "#inserting multiple values using nigative indexing\n",
        "list2=['k','e','r','t','y']\n",
        "list2.insert(30,\"ff\")\n",
        "list2.insert(-30,\"ff\")\n",
        "print(list2)"
      ],
      "metadata": {
        "id": "98MC4UgZlADi",
        "colab": {
          "base_uri": "https://localhost:8080/"
        },
        "outputId": "4ef05d5b-33ea-4bfa-b2f3-b077e913c709"
      },
      "execution_count": 5,
      "outputs": [
        {
          "output_type": "stream",
          "name": "stdout",
          "text": [
            "['ff', 'k', 'e', 'r', 't', 'y', 'ff']\n"
          ]
        }
      ]
    },
    {
      "cell_type": "code",
      "execution_count": 6,
      "metadata": {
        "id": "IPoTfmThkt18",
        "colab": {
          "base_uri": "https://localhost:8080/"
        },
        "outputId": "9ab26c44-015e-4f66-e888-0ac6904eec77"
      },
      "outputs": [
        {
          "output_type": "stream",
          "name": "stdout",
          "text": [
            "[90, 80, ['gem', 'till'], 60, 50]\n"
          ]
        }
      ],
      "source": [
        "#inserting list under list using indexing\n",
        "list3=[90,80,70,60,50]\n",
        "list3[2]=[\"gem\",\"till\"]\n",
        "print(list3)"
      ]
    },
    {
      "cell_type": "code",
      "source": [
        "#inserting list under list using index no.\n",
        "list4=[10,20,30,40,50,60,70]\n",
        "list4[3]=[\"q\",3,20]\n",
        "list4"
      ],
      "metadata": {
        "colab": {
          "base_uri": "https://localhost:8080/"
        },
        "id": "wYVZu79U2Lnl",
        "outputId": "7241a182-7d26-4aa6-f26c-f003a43a268e"
      },
      "execution_count": 7,
      "outputs": [
        {
          "output_type": "execute_result",
          "data": {
            "text/plain": [
              "[10, 20, 30, ['q', 3, 20], 50, 60, 70]"
            ]
          },
          "metadata": {},
          "execution_count": 7
        }
      ]
    },
    {
      "cell_type": "code",
      "source": [
        "#inserting same values at different location (index no.)\n",
        "list5=[2,3,4,5,6,6,7,8,9,6]\n",
        "list5[0]=list5[1]=[66]\n",
        "print(list5)"
      ],
      "metadata": {
        "id": "kmnjkMa3k_-2",
        "colab": {
          "base_uri": "https://localhost:8080/"
        },
        "outputId": "34ef3a58-183c-4bee-f542-7eeb9420f22d"
      },
      "execution_count": 8,
      "outputs": [
        {
          "output_type": "stream",
          "name": "stdout",
          "text": [
            "[[66], [66], 4, 5, 6, 6, 7, 8, 9, 6]\n"
          ]
        }
      ]
    },
    {
      "cell_type": "code",
      "source": [
        "#adding values using .append()\n",
        "#.append() adds a value at the end of the list\n",
        "list6=['p','o','i','u']\n",
        "list6.append('o')\n",
        "print(list6)"
      ],
      "metadata": {
        "id": "JFtgEBgXlAHD",
        "colab": {
          "base_uri": "https://localhost:8080/"
        },
        "outputId": "0f8918a5-b788-4b01-9ead-db26fcb8c2d2"
      },
      "execution_count": 10,
      "outputs": [
        {
          "output_type": "stream",
          "name": "stdout",
          "text": [
            "['p', 'o', 'i', 'u', 'o']\n"
          ]
        }
      ]
    },
    {
      "cell_type": "code",
      "source": [
        "#adding values using .append()\n",
        "list7=['r','t','y','u']\n",
        "list7.append('oo')\n",
        "print(list7)"
      ],
      "metadata": {
        "colab": {
          "base_uri": "https://localhost:8080/"
        },
        "id": "uj5WSiZC3sh_",
        "outputId": "a0934f99-28ad-4d67-bd1a-6d7f02f6856f"
      },
      "execution_count": 12,
      "outputs": [
        {
          "output_type": "stream",
          "name": "stdout",
          "text": [
            "['r', 't', 'y', 'u', 'oo']\n"
          ]
        }
      ]
    },
    {
      "cell_type": "code",
      "source": [
        "#joining 2 list using .extend()\n",
        "list8=['w','e','r']\n",
        "list9=('u','i')\n",
        "list8.extend(list9)\n",
        "print(list8)"
      ],
      "metadata": {
        "id": "vOthq8vQlLau",
        "colab": {
          "base_uri": "https://localhost:8080/"
        },
        "outputId": "ee19aeba-7823-40cd-d440-29f8b706f3fd"
      },
      "execution_count": 11,
      "outputs": [
        {
          "output_type": "stream",
          "name": "stdout",
          "text": [
            "['w', 'e', 'r', 'u', 'i']\n"
          ]
        }
      ]
    },
    {
      "cell_type": "code",
      "source": [
        "#removing a specific value using .remove()\n",
        "list01=['o','p','i']\n",
        "list01.remove(\"i\")\n",
        "list01"
      ],
      "metadata": {
        "id": "hC-ag6tHlLeG",
        "colab": {
          "base_uri": "https://localhost:8080/"
        },
        "outputId": "59b87575-b97b-4416-8450-996c8cfecee2"
      },
      "execution_count": 13,
      "outputs": [
        {
          "output_type": "execute_result",
          "data": {
            "text/plain": [
              "['o', 'p']"
            ]
          },
          "metadata": {},
          "execution_count": 13
        }
      ]
    },
    {
      "cell_type": "code",
      "source": [
        "#removing a value by getting user input\n",
        "list02=['q','w','e','r','t','y']\n",
        "g=input(\"which word u don't want\")\n",
        "for i in list02 :\n",
        "  if i == g:\n",
        "    list02.remove(i)\n",
        "print(list02)"
      ],
      "metadata": {
        "id": "kGu0h4KllPlr",
        "colab": {
          "base_uri": "https://localhost:8080/"
        },
        "outputId": "1c870249-388e-4b2d-e1d8-bf6ceb0547d1"
      },
      "execution_count": 14,
      "outputs": [
        {
          "output_type": "stream",
          "name": "stdout",
          "text": [
            "which word u don't wantq\n",
            "['w', 'e', 'r', 't', 'y']\n"
          ]
        }
      ]
    },
    {
      "cell_type": "code",
      "source": [
        "#removig a value using .pop()\n",
        "#.pop() will delet last value by default\n",
        "list03=[\"o\",\"u\",\"t\",\"w\",4,6]\n",
        "list03.pop()\n",
        "print(list03)"
      ],
      "metadata": {
        "id": "t1wXMuK6lTTW",
        "colab": {
          "base_uri": "https://localhost:8080/"
        },
        "outputId": "b257a8a3-b676-4385-fc57-ce0d4c2441eb"
      },
      "execution_count": 18,
      "outputs": [
        {
          "output_type": "stream",
          "name": "stdout",
          "text": [
            "['o', 'u', 't', 'w', 4]\n"
          ]
        }
      ]
    },
    {
      "cell_type": "code",
      "source": [
        "#removing a specific value using .pop()\n",
        "list04=[\"o\",\"u\",\"t\",\"w\",4,6]\n",
        "list04.pop(0)\n",
        "print(list04)"
      ],
      "metadata": {
        "colab": {
          "base_uri": "https://localhost:8080/"
        },
        "id": "WPwrXGAv-bpW",
        "outputId": "fd5dfdf9-1d5f-4e03-b564-b30de3836e99"
      },
      "execution_count": 19,
      "outputs": [
        {
          "output_type": "stream",
          "name": "stdout",
          "text": [
            "['u', 't', 'w', 4, 6]\n"
          ]
        }
      ]
    },
    {
      "cell_type": "code",
      "source": [
        "#deleting a list using del keyword\n",
        "#if we want to print this list it will give a name error\n",
        "list05=['z','a','s']\n",
        "del list05\n",
        "list05"
      ],
      "metadata": {
        "id": "K-Dv0vxUlVvz",
        "colab": {
          "base_uri": "https://localhost:8080/",
          "height": 176
        },
        "outputId": "985ac1ab-df6b-4355-b394-01271b84180e"
      },
      "execution_count": 17,
      "outputs": [
        {
          "output_type": "error",
          "ename": "NameError",
          "evalue": "name 'loc' is not defined",
          "traceback": [
            "\u001b[0;31m---------------------------------------------------------------------------\u001b[0m",
            "\u001b[0;31mNameError\u001b[0m                                 Traceback (most recent call last)",
            "\u001b[0;32m<ipython-input-17-66c2c12e9e32>\u001b[0m in \u001b[0;36m<cell line: 0>\u001b[0;34m()\u001b[0m\n\u001b[1;32m      1\u001b[0m \u001b[0mloc\u001b[0m\u001b[0;34m=\u001b[0m\u001b[0;34m[\u001b[0m\u001b[0;34m'z'\u001b[0m\u001b[0;34m,\u001b[0m\u001b[0;34m'a'\u001b[0m\u001b[0;34m,\u001b[0m\u001b[0;34m's'\u001b[0m\u001b[0;34m]\u001b[0m\u001b[0;34m\u001b[0m\u001b[0;34m\u001b[0m\u001b[0m\n\u001b[1;32m      2\u001b[0m \u001b[0;32mdel\u001b[0m \u001b[0mloc\u001b[0m\u001b[0;34m\u001b[0m\u001b[0;34m\u001b[0m\u001b[0m\n\u001b[0;32m----> 3\u001b[0;31m \u001b[0mloc\u001b[0m\u001b[0;34m\u001b[0m\u001b[0;34m\u001b[0m\u001b[0m\n\u001b[0m",
            "\u001b[0;31mNameError\u001b[0m: name 'loc' is not defined"
          ]
        }
      ]
    },
    {
      "cell_type": "code",
      "source": [
        "#deteting a specific value using using del keyword\n",
        "list06=['y','u','o']\n",
        "del list06[1]\n",
        "list06"
      ],
      "metadata": {
        "id": "xA19U-RQlTW_",
        "colab": {
          "base_uri": "https://localhost:8080/"
        },
        "outputId": "4620802a-d6f8-4db4-b6a1-33f622e2e165"
      },
      "execution_count": 20,
      "outputs": [
        {
          "output_type": "execute_result",
          "data": {
            "text/plain": [
              "['y', 'o']"
            ]
          },
          "metadata": {},
          "execution_count": 20
        }
      ]
    },
    {
      "cell_type": "code",
      "source": [
        "#getting maximum and minimum value in the list using .max() and .min()\n",
        "list07=[90,10,20,30,40,50,60]\n",
        "print(\"max value in list=\",max(list07))\n",
        "print(\"min value in list=\",min(list07))"
      ],
      "metadata": {
        "id": "-zvK3w47lajx",
        "colab": {
          "base_uri": "https://localhost:8080/"
        },
        "outputId": "46355b61-9516-4cb2-c6cc-65e363230b72"
      },
      "execution_count": 1,
      "outputs": [
        {
          "output_type": "stream",
          "name": "stdout",
          "text": [
            "max value in list= 90\n",
            "min value in list= 10\n"
          ]
        }
      ]
    },
    {
      "cell_type": "code",
      "source": [
        "#sorting a list using .sort()\n",
        "#.sort() sorts a list in asecending order\n",
        "list07.sort()\n",
        "print(list07)"
      ],
      "metadata": {
        "colab": {
          "base_uri": "https://localhost:8080/"
        },
        "id": "_5ryJ0VDUgDT",
        "outputId": "acc43038-b67f-4d87-fbcf-27589c0e9157"
      },
      "execution_count": 3,
      "outputs": [
        {
          "output_type": "stream",
          "name": "stdout",
          "text": [
            "[10, 20, 30, 40, 50, 60, 90]\n"
          ]
        }
      ]
    },
    {
      "cell_type": "code",
      "source": [
        "#sorting a list in desending order using .sort(reverse=True)\n",
        "list07.sort(reverse=True)\n",
        "print(list07)"
      ],
      "metadata": {
        "colab": {
          "base_uri": "https://localhost:8080/"
        },
        "id": "iNmXgdskUgLC",
        "outputId": "330940bf-1589-48cd-ed8c-824329625deb"
      },
      "execution_count": 2,
      "outputs": [
        {
          "output_type": "stream",
          "name": "stdout",
          "text": [
            "[90, 60, 50, 40, 30, 20, 10]\n"
          ]
        }
      ]
    },
    {
      "cell_type": "code",
      "source": [
        "#getting a count of specific value using .count()\n",
        "list08=[1,2,3,3,3,1,5,2]\n",
        "print(list08.count(3))"
      ],
      "metadata": {
        "id": "o7pFH_y7lanT"
      },
      "execution_count": null,
      "outputs": []
    }
  ]
}