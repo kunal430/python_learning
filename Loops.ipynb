{
  "nbformat": 4,
  "nbformat_minor": 0,
  "metadata": {
    "colab": {
      "provenance": [],
      "authorship_tag": "ABX9TyNiOqkjt2hoIx3uka1UI6hG"
    },
    "kernelspec": {
      "name": "python3",
      "display_name": "Python 3"
    },
    "language_info": {
      "name": "python"
    }
  },
  "cells": [
    {
      "cell_type": "code",
      "execution_count": null,
      "metadata": {
        "colab": {
          "base_uri": "https://localhost:8080/"
        },
        "id": "2jUFhgsJKf63",
        "outputId": "6db221d0-50b1-4530-8d78-ddc8ecc3b7ee"
      },
      "outputs": [
        {
          "output_type": "stream",
          "name": "stdout",
          "text": [
            "0\n",
            "1\n",
            "2\n",
            "3\n",
            "4\n",
            "5\n"
          ]
        }
      ],
      "source": [
        "#simple for loop\n",
        "\n",
        "for i in range (6):\n",
        "     print(i)"
      ]
    },
    {
      "cell_type": "code",
      "source": [
        "#simple while loop\n",
        "i= 1\n",
        "while i < 6:\n",
        "   print (i)\n",
        "   i += 1 ;"
      ],
      "metadata": {
        "colab": {
          "base_uri": "https://localhost:8080/"
        },
        "id": "O4CsVLmY76tD",
        "outputId": "1352173f-bef2-44cd-9ef2-9fe91e6e6d4c"
      },
      "execution_count": 1,
      "outputs": [
        {
          "output_type": "stream",
          "name": "stdout",
          "text": [
            "1\n",
            "2\n",
            "3\n",
            "4\n",
            "5\n"
          ]
        }
      ]
    }
  ]
}