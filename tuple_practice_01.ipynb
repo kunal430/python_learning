{
  "nbformat": 4,
  "nbformat_minor": 0,
  "metadata": {
    "colab": {
      "provenance": []
    },
    "kernelspec": {
      "name": "python3",
      "display_name": "Python 3"
    },
    "language_info": {
      "name": "python"
    }
  },
  "cells": [
    {
      "cell_type": "code",
      "execution_count": 2,
      "metadata": {
        "id": "Eu99ZqG3WKtX",
        "colab": {
          "base_uri": "https://localhost:8080/"
        },
        "outputId": "687c7db0-c1ce-494d-e49c-0b2c8c176b8c"
      },
      "outputs": [
        {
          "output_type": "stream",
          "name": "stdout",
          "text": [
            "('null', 'full')\n",
            "<class 'tuple'>\n"
          ]
        }
      ],
      "source": [
        "# Tuple\n",
        "#defining a tuple\n",
        "tuple1=(\"null\",\"full\")\n",
        "print(tuple1)\n",
        "print(type(tuple1))"
      ]
    },
    {
      "cell_type": "code",
      "source": [
        "#defining a empty tuple\n",
        "#1st method\n",
        "tuple2=()\n",
        "print(tuple2)\n",
        "print(type(tuple2))\n",
        "#2nd mrthod\n",
        "tuple3=tuple()\n",
        "print(tuple3)\n",
        "print(type(tuple3))"
      ],
      "metadata": {
        "id": "5l3YZTNqWQb0",
        "colab": {
          "base_uri": "https://localhost:8080/"
        },
        "outputId": "56c94bdd-5155-4e3b-9989-66ef7bd775c6"
      },
      "execution_count": 3,
      "outputs": [
        {
          "output_type": "stream",
          "name": "stdout",
          "text": [
            "()\n",
            "<class 'tuple'>\n",
            "()\n",
            "<class 'tuple'>\n"
          ]
        }
      ]
    },
    {
      "cell_type": "code",
      "source": [
        "#tuple allows duplicate values\n",
        "tuple4=(\"viz\",\"fiz\",\"viz\",\"diz\",\"fiz\")\n",
        "print(tuple4)"
      ],
      "metadata": {
        "colab": {
          "base_uri": "https://localhost:8080/"
        },
        "id": "HLVs-S-WsDlm",
        "outputId": "1867b388-f369-4d68-de6b-dcffbf6e69e7"
      },
      "execution_count": 4,
      "outputs": [
        {
          "output_type": "stream",
          "name": "stdout",
          "text": [
            "('viz', 'fiz', 'viz', 'diz', 'fiz')\n"
          ]
        }
      ]
    },
    {
      "cell_type": "code",
      "source": [
        "#defining tuple using single value\n",
        "#if we dont use comma (,) by the end of the element it will considerd as a string data type\n",
        "tuplw5=(\"kunal\")\n",
        "print(type(tuplw5))\n",
        "tuple6=(\"kunal\",)\n",
        "print(type(tuple6))\n",
        "#defining the length of tuple\n",
        "tuple7=(\"bil\",\"is\",\"on\",\"mi\",899)\n",
        "print(len(tuple7))"
      ],
      "metadata": {
        "colab": {
          "base_uri": "https://localhost:8080/"
        },
        "id": "u5AAoMz9sDnv",
        "outputId": "f047d638-e3fe-45bd-f905-18de556126f1"
      },
      "execution_count": 5,
      "outputs": [
        {
          "output_type": "stream",
          "name": "stdout",
          "text": [
            "<class 'str'>\n",
            "<class 'tuple'>\n",
            "5\n"
          ]
        }
      ]
    },
    {
      "cell_type": "code",
      "source": [
        "#tuple can contain different data types\n",
        "tuple8=(20,\"vila\",10.15,20+1j)\n",
        "print(tuple8)\n",
        "print(type(tuple8))"
      ],
      "metadata": {
        "colab": {
          "base_uri": "https://localhost:8080/"
        },
        "id": "hQODtVOIsDp-",
        "outputId": "8b439208-496e-4e61-f5df-d47c97ef79c6"
      },
      "execution_count": 6,
      "outputs": [
        {
          "output_type": "stream",
          "name": "stdout",
          "text": [
            "(20, 'vila', 10.15, (20+1j))\n",
            "<class 'tuple'>\n"
          ]
        }
      ]
    },
    {
      "cell_type": "code",
      "source": [
        "#defining a tuple using tuple() constructor\n",
        "tuple9=[\"dill\",\"hill\",\"zill\"]\n",
        "tuple01=tuple(tuple9)\n",
        "print(tuple01)"
      ],
      "metadata": {
        "colab": {
          "base_uri": "https://localhost:8080/"
        },
        "id": "yw4g9a9lsDtc",
        "outputId": "3e6150b5-15c5-46a6-bce8-c317ca79c988"
      },
      "execution_count": 7,
      "outputs": [
        {
          "output_type": "stream",
          "name": "stdout",
          "text": [
            "('dill', 'hill', 'zill')\n"
          ]
        }
      ]
    },
    {
      "cell_type": "code",
      "source": [
        "#using a while loop for getting the data(values) from given tuple\n",
        "tuple10=(\"abc\",\"def\",\"ghi\")\n",
        "i=0\n",
        "while i < len(tuple10):\n",
        "  print(tuple10[i])\n",
        "  i=i+1\n",
        "print(\"over\")"
      ],
      "metadata": {
        "colab": {
          "base_uri": "https://localhost:8080/"
        },
        "id": "V7JVbPoGtbmK",
        "outputId": "999671a0-43d8-4da7-8022-66464b2e4f0c"
      },
      "execution_count": 8,
      "outputs": [
        {
          "output_type": "stream",
          "name": "stdout",
          "text": [
            "abc\n",
            "def\n",
            "ghi\n",
            "over\n"
          ]
        }
      ]
    },
    {
      "cell_type": "code",
      "source": [
        "#modyfing tuples using arithmatic operators\n",
        "#method 1\n",
        "#joining 2 tuple using addition operator (+)\n",
        "tuple02=('a','s','d','f')\n",
        "tuple03=(1,2,3,4)\n",
        "tuple11=tuple02+tuple03\n",
        "print(tuple11)"
      ],
      "metadata": {
        "colab": {
          "base_uri": "https://localhost:8080/"
        },
        "id": "m2muJx5EtboQ",
        "outputId": "df73ec4d-d593-4e25-9894-9a170af4c0d0"
      },
      "execution_count": 9,
      "outputs": [
        {
          "output_type": "stream",
          "name": "stdout",
          "text": [
            "('a', 's', 'd', 'f', 1, 2, 3, 4)\n"
          ]
        }
      ]
    },
    {
      "cell_type": "code",
      "source": [
        "#modyfing tuples using arithmatic operators\n",
        "#method 2\n",
        "#multiplying a tuple using using multiply operator\n",
        "tuple12=(\"civil\",\"war\")\n",
        "tuple13=tuple12*3\n",
        "print(tuple13)"
      ],
      "metadata": {
        "colab": {
          "base_uri": "https://localhost:8080/"
        },
        "id": "RCRycLnitbrq",
        "outputId": "1a68868a-5174-4be3-a404-9765240059cf"
      },
      "execution_count": 10,
      "outputs": [
        {
          "output_type": "stream",
          "name": "stdout",
          "text": [
            "('civil', 'war', 'civil', 'war', 'civil', 'war')\n"
          ]
        }
      ]
    },
    {
      "cell_type": "code",
      "source": [
        "#getting the count of specific element using .count function i.e .count()\n",
        "tuple14=(1,2,3,3,3,3,4,5,6,6,7,8,9)\n",
        "print(tuple14)\n",
        "print(\"count of 3 -\",tuple14.count(3))\n",
        "print(\"count of 6 -\",tuple14.count(6))\n",
        "print(\"count of 9 -\",tuple14.count(9))\n"
      ],
      "metadata": {
        "colab": {
          "base_uri": "https://localhost:8080/"
        },
        "id": "InunErwtvF74",
        "outputId": "b2d11fae-3141-442e-df56-67a99ae7b56b"
      },
      "execution_count": 12,
      "outputs": [
        {
          "output_type": "stream",
          "name": "stdout",
          "text": [
            "(1, 2, 3, 3, 3, 3, 4, 5, 6, 6, 7, 8, 9)\n",
            "count of 3 - 4\n",
            "count of 6 - 2\n",
            "count of 9 - 1\n"
          ]
        }
      ]
    },
    {
      "cell_type": "code",
      "source": [
        "#getting the index no. of specific element using .index()\n",
        "tuple15=(1,2,3,4)\n",
        "x=tuple15.index(3)\n",
        "print(\"index of 3 -\",x)"
      ],
      "metadata": {
        "colab": {
          "base_uri": "https://localhost:8080/"
        },
        "id": "TGLJelBWvF_W",
        "outputId": "1fb2cdd4-5ad7-402a-a9c3-53afada0545a"
      },
      "execution_count": 13,
      "outputs": [
        {
          "output_type": "stream",
          "name": "stdout",
          "text": [
            "index of 3 - 2\n"
          ]
        }
      ]
    },
    {
      "cell_type": "code",
      "source": [
        "#deleting a tuple using del keyword\n",
        "tuple16=(1,2,3,3,4)\n",
        "print(tuple16)\n",
        "del tuple16\n",
        "#if we want to print(t15) it will give name error which means it was deleted\n",
        "print(tuple16)"
      ],
      "metadata": {
        "colab": {
          "base_uri": "https://localhost:8080/",
          "height": 193
        },
        "id": "TCLAxTrrwqIu",
        "outputId": "e5fd8bbe-12dd-418b-b63d-85cb38943452"
      },
      "execution_count": 14,
      "outputs": [
        {
          "output_type": "stream",
          "name": "stdout",
          "text": [
            "(1, 2, 3, 3, 4)\n"
          ]
        },
        {
          "output_type": "error",
          "ename": "NameError",
          "evalue": "name 'tuple16' is not defined",
          "traceback": [
            "\u001b[0;31m---------------------------------------------------------------------------\u001b[0m",
            "\u001b[0;31mNameError\u001b[0m                                 Traceback (most recent call last)",
            "\u001b[0;32m<ipython-input-14-ee9b1abf4a6b>\u001b[0m in \u001b[0;36m<cell line: 0>\u001b[0;34m()\u001b[0m\n\u001b[1;32m      4\u001b[0m \u001b[0;32mdel\u001b[0m \u001b[0mtuple16\u001b[0m\u001b[0;34m\u001b[0m\u001b[0;34m\u001b[0m\u001b[0m\n\u001b[1;32m      5\u001b[0m \u001b[0;31m#if we want to print(t15) it will give name error which means it was deleted\u001b[0m\u001b[0;34m\u001b[0m\u001b[0;34m\u001b[0m\u001b[0m\n\u001b[0;32m----> 6\u001b[0;31m \u001b[0mprint\u001b[0m\u001b[0;34m(\u001b[0m\u001b[0mtuple16\u001b[0m\u001b[0;34m)\u001b[0m\u001b[0;34m\u001b[0m\u001b[0;34m\u001b[0m\u001b[0m\n\u001b[0m",
            "\u001b[0;31mNameError\u001b[0m: name 'tuple16' is not defined"
          ]
        }
      ]
    },
    {
      "cell_type": "code",
      "source": [
        "#how to modify a tuple using list() constructor because we cannot modify tuple directly\n",
        "tuple17=(\"apple\",\"banana\",\"kiwi\")\n",
        "list1=list(tuple17)\n",
        "list1[2]=\"cherry\"\n",
        "tuple17=tuple(list1)\n",
        "print(tuple17)\n",
        "\n"
      ],
      "metadata": {
        "colab": {
          "base_uri": "https://localhost:8080/"
        },
        "id": "IjC4ddvfxjTW",
        "outputId": "0356195c-5cbc-427b-a5f7-1fa708c2d37a"
      },
      "execution_count": 15,
      "outputs": [
        {
          "output_type": "stream",
          "name": "stdout",
          "text": [
            "('apple', 'banana', 'cherry')\n"
          ]
        }
      ]
    },
    {
      "cell_type": "code",
      "source": [
        "#how to add a value using list() constructor\n",
        "tuple18=(\"apple\",\"bannana\",\"kiwi\")\n",
        "list2=list(tuple18)\n",
        "list2.append(\"cherry\")\n",
        "tuple18=tuple(list2)\n",
        "print(tuple18)"
      ],
      "metadata": {
        "colab": {
          "base_uri": "https://localhost:8080/"
        },
        "id": "VuySBj0WySSs",
        "outputId": "55bd62fe-b305-4f12-ea9d-087c267ac6d4"
      },
      "execution_count": 16,
      "outputs": [
        {
          "output_type": "stream",
          "name": "stdout",
          "text": [
            "('apple', 'bannana', 'kiwi', 'cherry')\n"
          ]
        }
      ]
    },
    {
      "cell_type": "code",
      "source": [
        "#how to remove a value using list() constructor\n",
        "tuple19=(\"apple\",\"banana\",\"cherry\")\n",
        "list3=list(tuple19)\n",
        "list3.remove(\"apple\")\n",
        "tuple19=tuple(list3)\n",
        "print(tuple19)"
      ],
      "metadata": {
        "colab": {
          "base_uri": "https://localhost:8080/"
        },
        "id": "ryDMGDhnySWE",
        "outputId": "4f91c2b5-4aad-4268-d823-6468172627df"
      },
      "execution_count": 17,
      "outputs": [
        {
          "output_type": "stream",
          "name": "stdout",
          "text": [
            "('banana', 'cherry')\n"
          ]
        }
      ]
    }
  ]
}