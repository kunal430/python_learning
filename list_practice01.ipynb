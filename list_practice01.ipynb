{
  "cells": [
    {
      "cell_type": "code",
      "execution_count": 7,
      "metadata": {
        "colab": {
          "base_uri": "https://localhost:8080/"
        },
        "id": "KdCBfNBaKGwL",
        "outputId": "c3666a54-a510-45ca-8407-cd4df112c67a"
      },
      "outputs": [
        {
          "output_type": "stream",
          "name": "stdout",
          "text": [
            "['list', 2, 3, 4, 5, 7, 2, 2]\n",
            "8\n"
          ]
        }
      ],
      "source": [
        "#list allows duplicates values\n",
        "list1=[\"list\",2,3,4,5,7,2,2]\n",
        "print(list1)\n",
        "#to check the length of the list\n",
        "print(len(list1))"
      ]
    },
    {
      "cell_type": "code",
      "execution_count": 8,
      "metadata": {
        "colab": {
          "base_uri": "https://localhost:8080/"
        },
        "id": "T1h1G47dK4iE",
        "outputId": "fb498016-9a73-4713-e121-4b4642b496b2"
      },
      "outputs": [
        {
          "output_type": "stream",
          "name": "stdout",
          "text": [
            "<class 'list'>\n"
          ]
        }
      ],
      "source": [
        "#list constructor\n",
        "list2=list((\"av\",\"tv\"))\n",
        "print(list)"
      ]
    },
    {
      "cell_type": "code",
      "execution_count": 9,
      "metadata": {
        "colab": {
          "base_uri": "https://localhost:8080/"
        },
        "id": "IZRHM6_YMKeB",
        "outputId": "a562c6e9-c624-40d2-ecba-bb6984e3ec34"
      },
      "outputs": [
        {
          "output_type": "stream",
          "name": "stdout",
          "text": [
            "enter somethingunit\n",
            "['u', 'n', 'i', 't']\n",
            "<class 'list'>\n",
            "4\n"
          ]
        }
      ],
      "source": [
        "#taking user input and converting it into list and checking its length\n",
        "list3=list(input(\"enter something\"))\n",
        "print(list3)\n",
        "print(type(list3))\n",
        "print(len(list3))"
      ]
    },
    {
      "cell_type": "code",
      "execution_count": 10,
      "metadata": {
        "colab": {
          "base_uri": "https://localhost:8080/"
        },
        "id": "S7M0ov95N6eU",
        "outputId": "e290512c-6a5a-4499-e412-5dd5e4a615af"
      },
      "outputs": [
        {
          "output_type": "stream",
          "name": "stdout",
          "text": [
            "<class 'list'>\n",
            "<class 'list'>\n"
          ]
        }
      ],
      "source": [
        "#2 method for defining empty list\n",
        "list4=[] #by using empty square bracket\n",
        "list5=list() #by using list constructor\n",
        "print(type(list4))\n",
        "print(type(list5))\n"
      ]
    },
    {
      "cell_type": "code",
      "execution_count": 11,
      "metadata": {
        "colab": {
          "base_uri": "https://localhost:8080/"
        },
        "id": "CwnAACqVc9th",
        "outputId": "136628b8-453f-48c2-e1bf-c4929cad0d32"
      },
      "outputs": [
        {
          "output_type": "stream",
          "name": "stdout",
          "text": [
            " present\n"
          ]
        }
      ],
      "source": [
        "#a small block of code to cheak weather the rofi is present in the list or not\n",
        "#using in keyword\n",
        "list6=[\"dusk\",\"till\",\"down\"]\n",
        "if \"down\" in list6:\n",
        "  print(\" present\")\n",
        "else:\n",
        "  print(\"nothing is there\")"
      ]
    },
    {
      "cell_type": "code",
      "execution_count": null,
      "metadata": {
        "colab": {
          "base_uri": "https://localhost:8080/"
        },
        "id": "kdVt_p2Rc-5V",
        "outputId": "aef0c0e2-0fad-4224-a5ff-c2d27eef602c"
      },
      "outputs": [
        {
          "name": "stdout",
          "output_type": "stream",
          "text": [
            "not available\n"
          ]
        }
      ],
      "source": [
        "#a small block of code to prove that 'in' will work on only individual value not a partial value\n",
        "list7=[\"thar\",343]\n",
        "if \"thar\" in list7:\n",
        "  print(\"available\")\n",
        "else:\n",
        "  print(\"not available\")"
      ]
    },
    {
      "cell_type": "code",
      "execution_count": 12,
      "metadata": {
        "colab": {
          "base_uri": "https://localhost:8080/"
        },
        "id": "5Xd_hHOAdfDG",
        "outputId": "4ba66c9b-7f37-4fcd-c286-1f91579bd770"
      },
      "outputs": [
        {
          "output_type": "stream",
          "name": "stdout",
          "text": [
            "['time', 'heals', 'everything', 'is it true', 345]\n"
          ]
        }
      ],
      "source": [
        "#updating values in the list with index no.\n",
        "list8=[\"time\",\"heals\",\"everything\",454,345]\n",
        "list8[3]=\"is it true\"\n",
        "print(list8)"
      ]
    },
    {
      "cell_type": "code",
      "execution_count": 13,
      "metadata": {
        "colab": {
          "base_uri": "https://localhost:8080/"
        },
        "id": "uVaxwfjot79Q",
        "outputId": "ab20313b-7d16-4b63-e048-059a573ecaf6"
      },
      "outputs": [
        {
          "output_type": "stream",
          "name": "stdout",
          "text": [
            "['thar', 'have', '4x4', 'petrol', 'deasel']\n"
          ]
        }
      ],
      "source": [
        "#updating multiple values using range of index no.\n",
        "list9=[\"thar\",\"have\",\"4x4\",887,445]\n",
        "list9[3:5]=\"petrol\",\"deasel\"\n",
        "print(list9)"
      ]
    },
    {
      "cell_type": "code",
      "execution_count": 14,
      "metadata": {
        "colab": {
          "base_uri": "https://localhost:8080/"
        },
        "id": "AQvrxur1cegb",
        "outputId": "79261c9d-4550-493a-9c5b-d0f6cbfa1f99"
      },
      "outputs": [
        {
          "output_type": "stream",
          "name": "stdout",
          "text": [
            "['k', 'l', 9, 'n', 7, 'p', 'w', 'j']\n"
          ]
        }
      ],
      "source": [
        "#updating multiple values using range of index no. with differnce in range\n",
        "list01=[\"k\",\"l\",\"m\",\"n\",\"o\",\"p\",'w',\"j\"]\n",
        "list01[2:5:2]=[9,7]\n",
        "print(list01)"
      ]
    }
  ],
  "metadata": {
    "colab": {
      "provenance": []
    },
    "kernelspec": {
      "display_name": "Python 3",
      "name": "python3"
    },
    "language_info": {
      "name": "python"
    }
  },
  "nbformat": 4,
  "nbformat_minor": 0
}