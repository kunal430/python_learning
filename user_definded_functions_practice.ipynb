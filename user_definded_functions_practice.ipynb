{
  "nbformat": 4,
  "nbformat_minor": 0,
  "metadata": {
    "colab": {
      "provenance": []
    },
    "kernelspec": {
      "name": "python3",
      "display_name": "Python 3"
    },
    "language_info": {
      "name": "python"
    }
  },
  "cells": [
    {
      "cell_type": "code",
      "source": [
        "#a simple greeting function\n",
        "def greet(name,age):\n",
        "  return print(\"your name is \",name,\"\\n\" \"your age is \",age)\n",
        "\n",
        "greet(\"gopal\",23)"
      ],
      "metadata": {
        "id": "RNL1EsDWwmES",
        "colab": {
          "base_uri": "https://localhost:8080/"
        },
        "outputId": "12ae10ed-66a3-42fc-d400-b39cabff29d0"
      },
      "execution_count": 5,
      "outputs": [
        {
          "output_type": "stream",
          "name": "stdout",
          "text": [
            "your name is  gopal \n",
            "your age is  23\n"
          ]
        }
      ]
    },
    {
      "cell_type": "code",
      "source": [
        "#passing extra arguments than parameters , in this case it will give type erro\n",
        "def out(a,b):\n",
        "  return a+b\n",
        "\n",
        "out(100,20,4)"
      ],
      "metadata": {
        "colab": {
          "base_uri": "https://localhost:8080/",
          "height": 176
        },
        "id": "UQCWEqVrzjTL",
        "outputId": "1a1f754a-cfee-434b-8a53-a9eec0552cda"
      },
      "execution_count": 6,
      "outputs": [
        {
          "output_type": "error",
          "ename": "TypeError",
          "evalue": "out() takes 2 positional arguments but 3 were given",
          "traceback": [
            "\u001b[0;31m---------------------------------------------------------------------------\u001b[0m",
            "\u001b[0;31mTypeError\u001b[0m                                 Traceback (most recent call last)",
            "\u001b[0;32m<ipython-input-6-7783285e1b01>\u001b[0m in \u001b[0;36m<cell line: 0>\u001b[0;34m()\u001b[0m\n\u001b[1;32m      3\u001b[0m   \u001b[0;32mreturn\u001b[0m \u001b[0ma\u001b[0m\u001b[0;34m+\u001b[0m\u001b[0mb\u001b[0m\u001b[0;34m\u001b[0m\u001b[0;34m\u001b[0m\u001b[0m\n\u001b[1;32m      4\u001b[0m \u001b[0;34m\u001b[0m\u001b[0m\n\u001b[0;32m----> 5\u001b[0;31m \u001b[0mout\u001b[0m\u001b[0;34m(\u001b[0m\u001b[0;36m100\u001b[0m\u001b[0;34m,\u001b[0m\u001b[0;36m20\u001b[0m\u001b[0;34m,\u001b[0m\u001b[0;36m4\u001b[0m\u001b[0;34m)\u001b[0m\u001b[0;34m\u001b[0m\u001b[0;34m\u001b[0m\u001b[0m\n\u001b[0m",
            "\u001b[0;31mTypeError\u001b[0m: out() takes 2 positional arguments but 3 were given"
          ]
        }
      ]
    },
    {
      "cell_type": "code",
      "source": [
        "#default argument in user defined function\n",
        "#the name \"layla\", and age \"18\" is default in this program snippet\n",
        "#If no arguments are passed, the default parameter values will be used.\n",
        "def greet(name=\"laila\",age=18):\n",
        "  return print(\"my name is - \",name,\"and my age is - \",age)\n",
        "\n",
        "greet(\"ganesh\",19)  # Both name and age provided\n",
        "\n",
        "greet()       #No arguments passed, uses default values\n",
        "\n",
        "greet(\"givi\") #Only name provided, age uses default value\n",
        "\n",
        "greet(age=22) #Only age provided, name uses default value"
      ],
      "metadata": {
        "colab": {
          "base_uri": "https://localhost:8080/"
        },
        "id": "naxkSe260clA",
        "outputId": "522bcf53-0107-48e3-dc46-ebc3ed228cd7"
      },
      "execution_count": 7,
      "outputs": [
        {
          "output_type": "stream",
          "name": "stdout",
          "text": [
            "my name is -  ganesh and my age is -  19\n",
            "my name is -  laila and my age is -  18\n",
            "my name is -  givi and my age is -  18\n",
            "my name is -  laila and my age is -  22\n"
          ]
        }
      ]
    },
    {
      "cell_type": "code",
      "source": [
        "#local variabel & global variable\n",
        "\n",
        "a_global=\"yes im runnung\"\n",
        "def a_line():\n",
        "  a_local=\"why are u running\" #local variable\n",
        "  print(a_local)  #accessing local variable inside a defined function\n",
        "  print(a_global)  #accessing global variable inside a defined function\n",
        "\n",
        "a_line()\n",
        "#accessing local and global variable outside a function\n",
        "print(a_global)  #accessing global variable inside a defined function\n",
        "print(a_local)  #accessing local variable inside a defined function , this will give a error because we cant call a local variable outside a defibed function"
      ],
      "metadata": {
        "colab": {
          "base_uri": "https://localhost:8080/",
          "height": 228
        },
        "id": "dnBNNAvh2jx6",
        "outputId": "64898ec0-5a62-4793-85b4-974201522723"
      },
      "execution_count": 8,
      "outputs": [
        {
          "output_type": "stream",
          "name": "stdout",
          "text": [
            "why are u running\n",
            "yes im runnung\n",
            "yes im runnung\n"
          ]
        },
        {
          "output_type": "error",
          "ename": "NameError",
          "evalue": "name 'a_local' is not defined",
          "traceback": [
            "\u001b[0;31m---------------------------------------------------------------------------\u001b[0m",
            "\u001b[0;31mNameError\u001b[0m                                 Traceback (most recent call last)",
            "\u001b[0;32m<ipython-input-8-cf38b80b170b>\u001b[0m in \u001b[0;36m<cell line: 0>\u001b[0;34m()\u001b[0m\n\u001b[1;32m     10\u001b[0m \u001b[0;31m#accessing local and global variable outside a function\u001b[0m\u001b[0;34m\u001b[0m\u001b[0;34m\u001b[0m\u001b[0m\n\u001b[1;32m     11\u001b[0m \u001b[0mprint\u001b[0m\u001b[0;34m(\u001b[0m\u001b[0ma_global\u001b[0m\u001b[0;34m)\u001b[0m  \u001b[0;31m#accessing global variable inside a defined function\u001b[0m\u001b[0;34m\u001b[0m\u001b[0;34m\u001b[0m\u001b[0m\n\u001b[0;32m---> 12\u001b[0;31m \u001b[0mprint\u001b[0m\u001b[0;34m(\u001b[0m\u001b[0ma_local\u001b[0m\u001b[0;34m)\u001b[0m  \u001b[0;31m#accessing local variable inside a defined function , this will give a error because we cant call a local variable outside a defibed function\u001b[0m\u001b[0;34m\u001b[0m\u001b[0;34m\u001b[0m\u001b[0m\n\u001b[0m",
            "\u001b[0;31mNameError\u001b[0m: name 'a_local' is not defined"
          ]
        }
      ]
    },
    {
      "cell_type": "code",
      "source": [
        "#definig a funtion to find agea of rectangel\n",
        "def area_rectangel(length , width):\n",
        "  area= length * width\n",
        "  return print(\"area of rectangle -\",area)\n",
        "\n",
        "area_rectangel(10,20)"
      ],
      "metadata": {
        "colab": {
          "base_uri": "https://localhost:8080/"
        },
        "id": "kkl9i6dI47xv",
        "outputId": "1498c6d9-9150-4dbf-82eb-a6e0ad8718de"
      },
      "execution_count": 9,
      "outputs": [
        {
          "output_type": "stream",
          "name": "stdout",
          "text": [
            "area of rectangle - 200\n"
          ]
        }
      ]
    },
    {
      "cell_type": "code",
      "execution_count": 11,
      "metadata": {
        "colab": {
          "base_uri": "https://localhost:8080/"
        },
        "id": "XFAaHifFx27J",
        "outputId": "2b57568f-c575-47e5-cdc8-e819e605faac"
      },
      "outputs": [
        {
          "output_type": "stream",
          "name": "stdout",
          "text": [
            "simpleintrest= 1380.0\n",
            "1104.0\n"
          ]
        }
      ],
      "source": [
        "#definiing a function to calculate the simple intrest\n",
        "def simpleintrest(p,r,t): #P = Principal, R = Rate of Interest in % per annum, and T = Time\n",
        "  return p*r*t/100\n",
        "\n",
        "print(\"simpleintrest=\",simpleintrest(p=2300,r=12,t=5)) #for detailed output\n",
        "print(simpleintrest(p=2300,r=12,t=4))"
      ]
    },
    {
      "cell_type": "code",
      "source": [
        "#definig a function to find a num is even or odd\n",
        "def is_even(num):\n",
        "  return num % 2 == 0\n",
        "\n",
        "num = int(input(\"enter any num -\"))\n",
        "if is_even(num):\n",
        "  print(f\"{num} is even\")\n",
        "\n",
        "else :\n",
        "  print(f\"{num} is odd\")"
      ],
      "metadata": {
        "colab": {
          "base_uri": "https://localhost:8080/"
        },
        "id": "Ax8ULbH4yLEm",
        "outputId": "a4a8922f-adad-4259-b1f0-d95e89513d8f"
      },
      "execution_count": 13,
      "outputs": [
        {
          "output_type": "stream",
          "name": "stdout",
          "text": [
            "enter any num -85\n",
            "85 is odd\n"
          ]
        }
      ]
    }
  ]
}