{
  "nbformat": 4,
  "nbformat_minor": 0,
  "metadata": {
    "colab": {
      "provenance": [],
      "authorship_tag": "ABX9TyMl+8c94Jv/94GUShIjEZbh"
    },
    "kernelspec": {
      "name": "python3",
      "display_name": "Python 3"
    },
    "language_info": {
      "name": "python"
    }
  },
  "cells": [
    {
      "cell_type": "code",
      "source": [
        "#to do list manager using list data type"
      ],
      "metadata": {
        "id": "JCv7tbtiwE9_"
      },
      "execution_count": null,
      "outputs": []
    },
    {
      "cell_type": "code",
      "source": [
        "#todo list manager"
      ],
      "metadata": {
        "id": "QxuG6Cz9ByPa"
      },
      "execution_count": null,
      "outputs": []
    },
    {
      "cell_type": "code",
      "source": [
        "def todo_list():\n",
        "\n",
        "  todo_list = []\n",
        "\n",
        "  while true:\n",
        "    print(\"\\n to do list manager\")\n",
        "    print(\"1.add task\")\n",
        "    print(\"2.view task\")\n",
        "    print(\"3.remove task\")\n",
        "    print(\"4.exit\")\n",
        "\n",
        "    option=input(\"enter your option:- \")\n",
        "\n",
        "    if option == \"1\":\n",
        "      task=input(\"enter new task:- \")\n",
        "      todo_list.append(task)\n",
        "      print(f\"task '{task}' added\")\n",
        "\n",
        "    elif option == \"2\":\n",
        "      if not todo_list:\n",
        "        print(\"your to do list is empty\")\n",
        "      print(\"your tasks are:-\")\n",
        "      for i in todo_list:\n",
        "        print(i)\n",
        "\n",
        "    elif option == \"3\":\n",
        "      remove_task=input(\"enter a task for remove:- \")\n",
        "      if remove_task in todo_list:\n",
        "        todo_list.remove(remove_task)\n",
        "        print(\"task removed\")\n",
        "      else:\n",
        "        print(\"task not found\")"
      ],
      "metadata": {
        "id": "FeNhRvzQwFAc"
      },
      "execution_count": null,
      "outputs": []
    },
    {
      "cell_type": "code",
      "source": [],
      "metadata": {
        "id": "yDmUn4fOwFCx"
      },
      "execution_count": null,
      "outputs": []
    },
    {
      "cell_type": "code",
      "source": [],
      "metadata": {
        "id": "Fvr8dLzCwFGY"
      },
      "execution_count": null,
      "outputs": []
    }
  ]
}