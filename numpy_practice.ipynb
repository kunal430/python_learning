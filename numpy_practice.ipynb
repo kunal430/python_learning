{
  "nbformat": 4,
  "nbformat_minor": 0,
  "metadata": {
    "colab": {
      "provenance": [],
      "authorship_tag": "ABX9TyPZ72vYrk+VXCidcX3H3282"
    },
    "kernelspec": {
      "name": "python3",
      "display_name": "Python 3"
    },
    "language_info": {
      "name": "python"
    }
  },
  "cells": [
    {
      "cell_type": "code",
      "execution_count": null,
      "metadata": {
        "id": "fvbci-oc39YQ",
        "colab": {
          "base_uri": "https://localhost:8080/"
        },
        "outputId": "af0020a3-ad8f-4990-a768-d6f6de342c9d"
      },
      "outputs": [
        {
          "output_type": "stream",
          "name": "stdout",
          "text": [
            "5.0\n",
            "[1, 2, 3, 4, 5, 6, 7, 8, 9]\n"
          ]
        }
      ],
      "source": [
        "#treaaditional way to find mean of a\n",
        "w=[1,2,3,4,5,6,7,8,9]\n",
        "a=sum(w)\n",
        "b=len(w)\n",
        "mean=a/b\n",
        "print(mean)\n",
        "print(w)"
      ]
    },
    {
      "cell_type": "code",
      "source": [
        "import numpy as np"
      ],
      "metadata": {
        "id": "A-KRT7Vq4L_k"
      },
      "execution_count": null,
      "outputs": []
    },
    {
      "cell_type": "code",
      "source": [
        "#converting normal list into array\n",
        "num=[2,3,4,5,6,7,8,9,1]\n",
        "np_data=np.array(num)\n",
        "print(np_data)"
      ],
      "metadata": {
        "colab": {
          "base_uri": "https://localhost:8080/"
        },
        "id": "9rwuX0uPVzut",
        "outputId": "20bcca52-b7c4-43cb-80dc-dc4ec2b6ffc5"
      },
      "execution_count": null,
      "outputs": [
        {
          "output_type": "stream",
          "name": "stdout",
          "text": [
            "[2 3 4 5 6 7 8 9 1]\n"
          ]
        }
      ]
    },
    {
      "cell_type": "code",
      "source": [
        "#getting mean of array using np.mean()\n",
        "data=np.array([1,2,2,3,3,3,4,5,5,5,5,6,7,7,7,8,9])\n",
        "print(\"mean-\",np.mean(data))"
      ],
      "metadata": {
        "id": "qHvP6lya4MBh",
        "colab": {
          "base_uri": "https://localhost:8080/"
        },
        "outputId": "d25d7ebb-59b2-46ff-ad78-139d42ad8478"
      },
      "execution_count": null,
      "outputs": [
        {
          "output_type": "stream",
          "name": "stdout",
          "text": [
            "mean- 4.823529411764706\n"
          ]
        }
      ]
    },
    {
      "cell_type": "code",
      "source": [
        "#getting meadian of array using np.median()\n",
        "print(\"meadian-\",np.median(data))"
      ],
      "metadata": {
        "id": "R8UABCRC4ME-",
        "colab": {
          "base_uri": "https://localhost:8080/"
        },
        "outputId": "b1b8039e-8da8-442a-8e86-36b57f352b51"
      },
      "execution_count": null,
      "outputs": [
        {
          "output_type": "stream",
          "name": "stdout",
          "text": [
            "meadian- 5.0\n"
          ]
        }
      ]
    },
    {
      "cell_type": "code",
      "source": [
        "#getting standerd deviation of array using np.std()\n",
        "print(\"standerd deviation-\",np.std(data))"
      ],
      "metadata": {
        "colab": {
          "base_uri": "https://localhost:8080/"
        },
        "id": "VAyo5wTQFl2M",
        "outputId": "e58894d7-316d-409a-ecf2-3efb98505c5b"
      },
      "execution_count": null,
      "outputs": [
        {
          "output_type": "stream",
          "name": "stdout",
          "text": [
            "standerd deviation- 2.2290935672348726\n"
          ]
        }
      ]
    },
    {
      "cell_type": "code",
      "source": [
        "#getting varience of array using np.var()\n",
        "print(\"varience-\",np.var(data))"
      ],
      "metadata": {
        "colab": {
          "base_uri": "https://localhost:8080/"
        },
        "id": "5xeLdI8YFl40",
        "outputId": "910e600b-787d-4179-fc80-d4f46a0c6bd7"
      },
      "execution_count": null,
      "outputs": [
        {
          "output_type": "stream",
          "name": "stdout",
          "text": [
            "varience- 4.968858131487889\n"
          ]
        }
      ]
    },
    {
      "cell_type": "code",
      "source": [
        "#getting minimum ,maximum of array using np.max() , np.min()\n",
        "print(\"maximum-\",np.max(data))\n",
        "print(\"minimum-\",np.min(data))"
      ],
      "metadata": {
        "colab": {
          "base_uri": "https://localhost:8080/"
        },
        "id": "Oj6GgbrmFl63",
        "outputId": "a68e0a0a-70e4-4505-d8f6-943dd1d30fde"
      },
      "execution_count": null,
      "outputs": [
        {
          "output_type": "stream",
          "name": "stdout",
          "text": [
            "maximum- 9\n",
            "minimum- 1\n"
          ]
        }
      ]
    },
    {
      "cell_type": "code",
      "source": [
        "#Write a NumPy function that takes a 1D NumPy array as input and returns a new array where each element is doubled.\n",
        "import numpy as np\n",
        "\n",
        "def double_array(arr):\n",
        "  return arr * 2\n",
        "\n",
        "\n",
        "num=np.array([1,2,3,4,5])\n",
        "convert=double_array(num)\n",
        "print(num)\n",
        "print(convert)"
      ],
      "metadata": {
        "colab": {
          "base_uri": "https://localhost:8080/"
        },
        "id": "-JsJorbElRk3",
        "outputId": "42a349e2-cd1e-492d-f1c2-87fdde386835"
      },
      "execution_count": 2,
      "outputs": [
        {
          "output_type": "stream",
          "name": "stdout",
          "text": [
            "[1 2 3 4 5]\n",
            "[ 2  4  6  8 10]\n"
          ]
        }
      ]
    }
  ]
}