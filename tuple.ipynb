{
  "cells": [
    {
      "cell_type": "code",
      "execution_count": null,
      "metadata": {
        "id": "3TNUQdHu4OMi"
      },
      "outputs": [],
      "source": [
        "#properties of tuple\n",
        "#tuple is immutable means modification is not possible in tuples.\n",
        "#tuple is denoted by () round brackets.\n",
        "#tuples are faster than lists#tuples are used for data that should not be changed.\n",
        "#tuples can contain any type of data except set\n",
        "#tuples are ordered means we can access the value inside the tuple using indexing no.\n",
        "#tuples can contain any no. of data\n",
        "#duplicates are allowed in tuple"
      ]
    },
    {
      "cell_type": "code",
      "execution_count": null,
      "metadata": {
        "colab": {
          "base_uri": "https://localhost:8080/"
        },
        "id": "u7BSzJhR4ced",
        "outputId": "fbf5b4ea-acdf-4479-ea83-ac3f1df9e1f7"
      },
      "outputs": [
        {
          "name": "stdout",
          "output_type": "stream",
          "text": [
            "('thar', 'TharRoxx', 'scorpioN', 'scorpio', 12, 13)\n",
            "<class 'tuple'>\n"
          ]
        }
      ],
      "source": [
        "#tupel creation\n",
        "tuple1=(\"thar\",\"TharRoxx\",\"scorpioN\",\"scorpio\",12,13)\n",
        "print(tuple1)\n",
        "print(type(tuple1))"
      ]
    },
    {
      "cell_type": "code",
      "execution_count": null,
      "metadata": {
        "colab": {
          "base_uri": "https://localhost:8080/"
        },
        "id": "j_Wm_cmO4cgf",
        "outputId": "3668710c-84b7-4ca5-944a-a61a169d1154"
      },
      "outputs": [
        {
          "name": "stdout",
          "output_type": "stream",
          "text": [
            "<class 'tuple'>\n",
            "<class 'tuple'>\n"
          ]
        }
      ],
      "source": [
        "#how to create an empty tuple\n",
        "#method 1 : by using empty brackets\n",
        "tuple2=()\n",
        "print(type(tuple2))\n",
        "\n",
        "#method 2 : by using tuple constructor\n",
        "tuple3=tuple()\n",
        "print(type(tuple3))"
      ]
    },
    {
      "cell_type": "code",
      "execution_count": null,
      "metadata": {
        "colab": {
          "base_uri": "https://localhost:8080/"
        },
        "id": "Utkt7qta4ci-",
        "outputId": "11c493b3-d236-4ec3-9f5c-87a01b60bdf6"
      },
      "outputs": [
        {
          "name": "stdout",
          "output_type": "stream",
          "text": [
            "<class 'str'>\n",
            "<class 'tuple'>\n"
          ]
        }
      ],
      "source": [
        "#how to create a tuple with single element\n",
        "#If you want to create a tuple that only has one thing in it, you need to add a comma after that one element\n",
        "tuple4=(\"thar\")\n",
        "print(type(tuple4))\n",
        "tuple5=(\"thar\",)\n",
        "print(type(tuple5))"
      ]
    },
    {
      "cell_type": "code",
      "execution_count": 1,
      "metadata": {
        "colab": {
          "base_uri": "https://localhost:8080/"
        },
        "id": "bAhbrTTq4cmj",
        "outputId": "c5d94c8e-d3aa-4a57-a932-c41421bb7f1f"
      },
      "outputs": [
        {
          "name": "stdout",
          "output_type": "stream",
          "text": [
            "('scorrpio', 'thar', 'TharRoxx', 'scorpio-n')\n"
          ]
        }
      ],
      "source": [
        "#tuples can convert a list into a tuple by using tuple contrustor\n",
        "list1=[\"scorrpio\",\"thar\",\"TharRoxx\",\"scorpio-n\"]\n",
        "tuple6=tuple(list1)\n",
        "print(tuple6)"
      ]
    },
    {
      "cell_type": "code",
      "execution_count": null,
      "metadata": {
        "id": "zBDuGBxMrHuF"
      },
      "outputs": [],
      "source": [
        "#tuple cannot modify directly because tuples are immutable but they can modify  using list() constructor"
      ]
    },
    {
      "cell_type": "code",
      "execution_count": 3,
      "metadata": {
        "colab": {
          "base_uri": "https://localhost:8080/"
        },
        "id": "Z1Wq8QMSRmFh",
        "outputId": "aec63e6a-b9bc-4c6c-bdd4-9426d4b9735f"
      },
      "outputs": [
        {
          "name": "stdout",
          "output_type": "stream",
          "text": [
            "('scorrpio', 'thar', 'scorpio-n')\n"
          ]
        }
      ],
      "source": [
        "#method1\n",
        "#here i remove a value using list() constructor using .remove()\n",
        "tuple7=(\"scorrpio\",\"thar\",\"TharRoxx\",\"scorpio-n\")\n",
        "list01=list(tuple7)\n",
        "list01.remove(\"TharRoxx\")\n",
        "tuple7=tuple(list01)\n",
        "print(tuple7)"
      ]
    },
    {
      "cell_type": "code",
      "execution_count": 4,
      "metadata": {
        "colab": {
          "base_uri": "https://localhost:8080/"
        },
        "id": "JLfKi12PQQLA",
        "outputId": "3b6bcfa9-e21b-4d4c-9ae1-8bc8c6062232"
      },
      "outputs": [
        {
          "name": "stdout",
          "output_type": "stream",
          "text": [
            "('thar', 'scorpio', 'xuv700', 'scorpio-n')\n"
          ]
        }
      ],
      "source": [
        "#method2\n",
        "#here i modyfing tuple using index no. of converted list\n",
        "tuple8=(\"thar\",\"scorpio\",\"TharRoxx\",\"scorpio-n\")\n",
        "list02=list(tuple8)\n",
        "list02[2]=\"xuv700\"\n",
        "tuple8=tuple(list02)\n",
        "print(tuple8)"
      ]
    },
    {
      "cell_type": "code",
      "execution_count": 5,
      "metadata": {
        "colab": {
          "base_uri": "https://localhost:8080/"
        },
        "id": "pt4E13HkQQNy",
        "outputId": "68b8038e-0f49-46d5-b148-77ce4898a642"
      },
      "outputs": [
        {
          "name": "stdout",
          "output_type": "stream",
          "text": [
            "('scorrpio', 'thar', 'TharRoxx', 'scorpio-n')\n"
          ]
        }
      ],
      "source": [
        "#method3\n",
        "#here i adding a value using list() constructor using .append()\n",
        "tuple9=(\"scorrpio\",\"thar\",\"TharRoxx\")\n",
        "list03=list(tuple9)\n",
        "list03.append(\"scorpio-n\")\n",
        "tuple9=tuple(list03)\n",
        "print(tuple9)"
      ]
    },
    {
      "cell_type": "code",
      "execution_count": 6,
      "metadata": {
        "colab": {
          "base_uri": "https://localhost:8080/"
        },
        "id": "YrxFJzBCTQ4j",
        "outputId": "13b6aa36-32a7-4f0a-b53f-dc2780a7f2c0"
      },
      "outputs": [
        {
          "name": "stdout",
          "output_type": "stream",
          "text": [
            "('till', 'the', 'end')\n"
          ]
        }
      ],
      "source": [
        "#deleting a tuple using del keyword\n",
        "tuple10=(\"till\",\"the\",\"end\")\n",
        "print(tuple10)\n",
        "del tuple10"
      ]
    },
    {
      "cell_type": "code",
      "execution_count": 7,
      "metadata": {
        "colab": {
          "base_uri": "https://localhost:8080/",
          "height": 158
        },
        "id": "-fbR4GxOTnIY",
        "outputId": "d8d65f33-156f-43c4-9e07-ed3244241872"
      },
      "outputs": [
        {
          "ename": "NameError",
          "evalue": "name 'tuple10' is not defined",
          "output_type": "error",
          "traceback": [
            "\u001b[0;31m---------------------------------------------------------------------------\u001b[0m",
            "\u001b[0;31mNameError\u001b[0m                                 Traceback (most recent call last)",
            "\u001b[0;32m<ipython-input-7-4c205ea87a0c>\u001b[0m in \u001b[0;36m<cell line: 0>\u001b[0;34m()\u001b[0m\n\u001b[1;32m      1\u001b[0m \u001b[0;31m#if we want to print after deleting it will give you name error\u001b[0m\u001b[0;34m\u001b[0m\u001b[0;34m\u001b[0m\u001b[0m\n\u001b[0;32m----> 2\u001b[0;31m \u001b[0mprint\u001b[0m\u001b[0;34m(\u001b[0m\u001b[0mtuple10\u001b[0m\u001b[0;34m)\u001b[0m\u001b[0;34m\u001b[0m\u001b[0;34m\u001b[0m\u001b[0m\n\u001b[0m",
            "\u001b[0;31mNameError\u001b[0m: name 'tuple10' is not defined"
          ]
        }
      ],
      "source": [
        "#if we want to print after deleting it will give you name error\n",
        "print(tuple10)"
      ]
    },
    {
      "cell_type": "code",
      "execution_count": 8,
      "metadata": {
        "id": "12Ehdv5yT47Y"
      },
      "outputs": [],
      "source": [
        "#packing and unpacking of tuple"
      ]
    },
    {
      "cell_type": "code",
      "execution_count": 1,
      "metadata": {
        "colab": {
          "base_uri": "https://localhost:8080/"
        },
        "id": "BIRbfrbfVDtI",
        "outputId": "34c98da1-e5c0-4751-fa52-f6373afca849"
      },
      "outputs": [
        {
          "name": "stdout",
          "output_type": "stream",
          "text": [
            "30\n",
            "40\n",
            "50\n",
            "60\n"
          ]
        }
      ],
      "source": [
        "tuple11=(30,40,50,60)\n",
        "#packing a tuple\n",
        "thirty,fourty,fifty,sixty=tuple11\n",
        "#unpacking a tuple\n",
        "print(thirty)\n",
        "print(fourty)\n",
        "print(fifty)\n",
        "print(sixty)"
      ]
    }
  ],
  "metadata": {
    "colab": {
      "authorship_tag": "ABX9TyOWf53WFDkv9JU/UA5xBZPm",
      "provenance": [],
      "toc_visible": true
    },
    "kernelspec": {
      "display_name": "Python 3",
      "name": "python3"
    },
    "language_info": {
      "codemirror_mode": {
        "name": "ipython",
        "version": 3
      },
      "file_extension": ".py",
      "mimetype": "text/x-python",
      "name": "python",
      "nbconvert_exporter": "python",
      "pygments_lexer": "ipython3",
      "version": "3.13.1"
    }
  },
  "nbformat": 4,
  "nbformat_minor": 0
}
